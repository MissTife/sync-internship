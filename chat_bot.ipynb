{
 "cells": [
  {
   "cell_type": "code",
   "execution_count": 1,
   "id": "49a08203",
   "metadata": {},
   "outputs": [],
   "source": [
    "import random\n",
    "import json\n"
   ]
  },
  {
   "cell_type": "code",
   "execution_count": 2,
   "id": "a767c1e3",
   "metadata": {},
   "outputs": [
    {
     "name": "stdout",
     "output_type": "stream",
     "text": [
      "Chatbot: Welcome! What is your name?\n",
      "You: faith boluwatife\n",
      "Chatbot: Hello faith boluwatife! How can I help you today?\n",
      "You: routine for my skin\n",
      "Chatbot:Skincare refers to the practice of taking care of the skin to maintain its health, appearance, and overall well-being. It involves a range of activities and products designed to cleanse, protect, and nourish the skin. Skincare routines can vary depending on individual skin types, concerns, and preferences.Do you have an oily or dry skin?\n",
      "You: oily\n",
      "Chatbot: Skincare for oily skin aims to control excess oil production, prevent breakouts, and maintain a balanced complexion. The goal is to keep the skin clean and well-moisturized without exacerbating oiliness. Here's a tailored skincare routine for oily skin:\n",
      "1. Cleansing:\n",
      "- Use a gentle, foaming cleanser specifically designed for oily or acne-prone skin. Cleansers with ingredients like salicylic acid or glycolic acid can help control oil and unclog pores.\n",
      "2. Exfoliation:\n",
      "- Exfoliate 2-3 times a week to remove dead skin cells and prevent clogged pores. Look for chemical exfoliants with ingredients like alpha hydroxy acids (AHAs) or beta hydroxy acids (BHAs).\n",
      "3. Toning:\n",
      "- Choose an alcohol-free toner that contains ingredients like witch hazel or tea tree oil, which can help balance oil production and soothe the skin.\n",
      "4. Lightweight Moisturizer:\n",
      "- Even oily skin needs hydration, but opt for a lightweight, oil-free moisturizer or gel-based formula. Look for products labeled as non-comedogenic to prevent pore clogging.\n",
      "5. Sunscreen:\n",
      "- Always apply a lightweight, non-greasy sunscreen with at least SPF 30 before going outdoors. Look for oil-free or gel-based sunscreens.\n",
      "6. Oil-Free Makeup:\n",
      "- If you use makeup, choose oil-free or matte formulations. Mineral-based makeup can be a good option for oily skin as well.\n",
      "7. Blotting Papers:\n",
      "- Keep blotting papers handy throughout the day to absorb excess oil without disturbing your makeup.\n",
      "8. Avoid Harsh Ingredients:\n",
      "- Avoid harsh or heavy skincare products that can strip the skin and trigger more oil production. Stay away from products containing alcohol or high levels of fragrance.\n",
      "9. Clay Masks:\n",
      "- Use a clay mask once a week to help absorb excess oil and reduce the appearance of large pores.\n",
      "10. Hydration:\n",
      "- Drink plenty of water to stay hydrated, as dehydrated skin can sometimes overcompensate by producing more oil.\n",
      "11. Avoid Touching Your Face:\n",
      "- Avoid touching your face with your hands, as it can transfer oils and dirt and potentially lead to breakouts.\n",
      "12. Consistency:\n",
      "- Stick to your skincare routine consistently to see the best results. It may take time for your skin to adjust and show improvement.\n",
      "Remember that everyone's skin is different, so it's essential to pay attention to how your skin responds to different products and adjust your routine accordingly. If you have specific skin concerns or persistent acne issues, consider consulting a dermatologist for personalized advice and treatment.\n",
      "You: thanks\n",
      "Chatbot: Sure, anytime.\n",
      "You: bye\n",
      "Chatbot: Goodbye! See you later.\n"
     ]
    }
   ],
   "source": [
    "def chat():\n",
    "    \n",
    "    print(\"Chatbot: Welcome! What is your name?\")\n",
    "    name_requested = True\n",
    "    while True:\n",
    "        user_input = input(\"You: \").lower()\n",
    "        if name_requested:\n",
    "            name = extract_names(user_input)\n",
    "            if name:\n",
    "                print(\"Chatbot: Hello {name}! How can I help you today?\".format(name=name))\n",
    "                name_requested = False\n",
    "            else:\n",
    "                print(\"Chatbot: I am sorry, I do not have the information that you seek.\")\n",
    "        elif \"thank\" in user_input:\n",
    "            print(\"Chatbot: Sure, anytime.\")\n",
    "        elif user_input in [\"how was your day\", \"how are you?\", \"are you good?\", \"how do you feel?\"]:\n",
    "            print(\"Chatbot: I am good, thank you.\")   \n",
    "        elif user_input in [\"care for my skin\",\"routine for my skin\", \"skin routine\" \"what is skincare?\", \"my skin care routine?\", \"how do i care for my skin\"]:\n",
    "            print(\"Chatbot:Skincare refers to the practice of taking care of the skin to maintain its health, appearance, and overall well-being. It involves a range of activities and products designed to cleanse, protect, and nourish the skin. Skincare routines can vary depending on individual skin types, concerns, and preferences.Do you have an oily or dry skin?\")    \n",
    "        elif user_input in [\"dry skin\",\"dry\", \"skincare for dry skin?\", \"how to care for dry skin?\"]:\n",
    "            print(\"Chatbot: Skincare for dry skin requires special attention to help replenish moisture, restore the skin's barrier, and prevent further dryness. Here's a comprehensive skincare routine tailored for dry skin:?\\n1. Cleansing:- Use a gentle, hydrating cleanser that does not contain harsh chemicals or alcohol. Look for creamy or lotion-based cleansers that can help retain moisture while cleansing.\\n2. Exfoliation:- Limit exfoliation to once a week or less, as over-exfoliation can worsen dryness. Use a mild, non-abrasive exfoliator to remove dead skin cells gently.\\n3. Toning:\\n- Look for alcohol-free toners with soothing and hydrating ingredients like rose water or chamomile extract. Avoid toners with astringents that can further dry out the skin.\\n4. Hydration:\\n- Use a rich, emollient moisturizer that provides long-lasting hydration. Look for ingredients like hyaluronic acid, glycerin, shea butter, or ceramides, which help lock in moisture.\\n5. Sunscreen:\\n- Always apply a broad-spectrum sunscreen with SPF 30 or higher before going outdoors, as dry skin is more susceptible to sun damage. Choose a moisturizing sunscreen to provide additional hydration.\\n6. Facial Oils:\\n- Incorporate nourishing facial oils into your routine, such as argan oil, jojoba oil, or rosehip oil. These oils can be applied after moisturizer to seal in moisture.\\n7. Hyaluronic Acid Serums:\\n- Consider using a hyaluronic acid serum before moisturizing. Hyaluronic acid can attract and retain water, helping to hydrate the skin.\\n8. Overnight Masks:\\n- Use a hydrating overnight mask once or twice a week to provide intense moisture while you sleep.\\n9. Avoid Harsh Ingredients:\\n- Avoid skincare products that contain alcohol, fragrances, and other harsh chemicals that can further dry out your skin.\\n10. Pat Dry:\\n- After cleansing or bathing, gently pat your skin dry with a soft towel instead of rubbing, which can cause irritation and worsen dryness.\\n11. Humidifier:\\n- Consider using a humidifier in your home, especially during the winter months, to add moisture to the air and prevent dryness.\\n12. Drink Water:\\n- Stay hydrated by drinking plenty of water throughout the day to support overall skin health.\\nRemember that consistency is key when caring for dry skin. Stick to your skincare routine and be patient, as it may take time to see significant improvements. If your dry skin is persistent or severe, consider consulting a dermatologist for personalized advice and treatment.\")    \n",
    "        elif user_input in [\"tell me something\", \"anything for me\",\"tell me anything\",\"what do you have for me\"]:\n",
    "            print(\"Chatbot: Try to be happy today, life has a lot to offer you.\")\n",
    "        elif user_input in [\"oily skin\",\"oily\" ,\"too much oil on skin\", \"care for oily skin\"]:\n",
    "            print(\"Chatbot: Skincare for oily skin aims to control excess oil production, prevent breakouts, and maintain a balanced complexion. The goal is to keep the skin clean and well-moisturized without exacerbating oiliness. Here's a tailored skincare routine for oily skin:\\n1. Cleansing:\\n- Use a gentle, foaming cleanser specifically designed for oily or acne-prone skin. Cleansers with ingredients like salicylic acid or glycolic acid can help control oil and unclog pores.\\n2. Exfoliation:\\n- Exfoliate 2-3 times a week to remove dead skin cells and prevent clogged pores. Look for chemical exfoliants with ingredients like alpha hydroxy acids (AHAs) or beta hydroxy acids (BHAs).\\n3. Toning:\\n- Choose an alcohol-free toner that contains ingredients like witch hazel or tea tree oil, which can help balance oil production and soothe the skin.\\n4. Lightweight Moisturizer:\\n- Even oily skin needs hydration, but opt for a lightweight, oil-free moisturizer or gel-based formula. Look for products labeled as non-comedogenic to prevent pore clogging.\\n5. Sunscreen:\\n- Always apply a lightweight, non-greasy sunscreen with at least SPF 30 before going outdoors. Look for oil-free or gel-based sunscreens.\\n6. Oil-Free Makeup:\\n- If you use makeup, choose oil-free or matte formulations. Mineral-based makeup can be a good option for oily skin as well.\\n7. Blotting Papers:\\n- Keep blotting papers handy throughout the day to absorb excess oil without disturbing your makeup.\\n8. Avoid Harsh Ingredients:\\n- Avoid harsh or heavy skincare products that can strip the skin and trigger more oil production. Stay away from products containing alcohol or high levels of fragrance.\\n9. Clay Masks:\\n- Use a clay mask once a week to help absorb excess oil and reduce the appearance of large pores.\\n10. Hydration:\\n- Drink plenty of water to stay hydrated, as dehydrated skin can sometimes overcompensate by producing more oil.\\n11. Avoid Touching Your Face:\\n- Avoid touching your face with your hands, as it can transfer oils and dirt and potentially lead to breakouts.\\n12. Consistency:\\n- Stick to your skincare routine consistently to see the best results. It may take time for your skin to adjust and show improvement.\\nRemember that everyone's skin is different, so it's essential to pay attention to how your skin responds to different products and adjust your routine accordingly. If you have specific skin concerns or persistent acne issues, consider consulting a dermatologist for personalized advice and treatment.\")                     \n",
    "        elif user_input in [\"bye\",\"done\", \"goodbye\",\"i'm done\",\"later\" ,\"see you later\"]:\n",
    "            print(\"Chatbot: Goodbye! See you later.\")\n",
    "            break      \n",
    "        else:\n",
    "            print(\"Chatbot: I am sorry, I do not understand. Please provide more information.\")\n",
    "            name_requested = True\n",
    "            \n",
    "def extract_names(input_text):\n",
    "    \n",
    "    words = input_text.split()\n",
    "    # Assume the name is any sequence of words (more than one word).\n",
    "    if len(words) >= 1:\n",
    "        name = \" \".join(words)\n",
    "        return name.strip()\n",
    "    return None\n",
    "\n",
    "if __name__ == \"__main__\":\n",
    "    chat()\n"
   ]
  },
  {
   "cell_type": "code",
   "execution_count": null,
   "id": "8ad3aa21",
   "metadata": {},
   "outputs": [],
   "source": []
  },
  {
   "cell_type": "code",
   "execution_count": null,
   "id": "d24acf2c",
   "metadata": {},
   "outputs": [],
   "source": []
  }
 ],
 "metadata": {
  "kernelspec": {
   "display_name": "Python 3 (ipykernel)",
   "language": "python",
   "name": "python3"
  },
  "language_info": {
   "codemirror_mode": {
    "name": "ipython",
    "version": 3
   },
   "file_extension": ".py",
   "mimetype": "text/x-python",
   "name": "python",
   "nbconvert_exporter": "python",
   "pygments_lexer": "ipython3",
   "version": "3.9.12"
  }
 },
 "nbformat": 4,
 "nbformat_minor": 5
}
