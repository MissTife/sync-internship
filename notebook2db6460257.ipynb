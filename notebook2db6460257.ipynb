{
 "cells": [
  {
   "cell_type": "code",
   "execution_count": 1,
   "id": "c4da93e0",
   "metadata": {
    "execution": {
     "iopub.execute_input": "2023-07-31T12:42:44.020532Z",
     "iopub.status.busy": "2023-07-31T12:42:44.020098Z",
     "iopub.status.idle": "2023-07-31T12:42:44.253221Z",
     "shell.execute_reply": "2023-07-31T12:42:44.251954Z"
    },
    "papermill": {
     "duration": 0.24471,
     "end_time": "2023-07-31T12:42:44.255979",
     "exception": false,
     "start_time": "2023-07-31T12:42:44.011269",
     "status": "completed"
    },
    "tags": []
   },
   "outputs": [],
   "source": [
    "import os\n",
    "import cv2\n",
    "import numpy as np\n",
    "import tempfile\n",
    "import shutil\n"
   ]
  },
  {
   "cell_type": "code",
   "execution_count": 2,
   "id": "e6c561ba",
   "metadata": {
    "execution": {
     "iopub.execute_input": "2023-07-31T12:42:44.271133Z",
     "iopub.status.busy": "2023-07-31T12:42:44.270719Z",
     "iopub.status.idle": "2023-07-31T12:42:53.808252Z",
     "shell.execute_reply": "2023-07-31T12:42:53.807136Z"
    },
    "papermill": {
     "duration": 9.548137,
     "end_time": "2023-07-31T12:42:53.810925",
     "exception": false,
     "start_time": "2023-07-31T12:42:44.262788",
     "status": "completed"
    },
    "tags": []
   },
   "outputs": [
    {
     "name": "stderr",
     "output_type": "stream",
     "text": [
      "/opt/conda/lib/python3.10/site-packages/scipy/__init__.py:146: UserWarning: A NumPy version >=1.16.5 and <1.23.0 is required for this version of SciPy (detected version 1.23.5\n",
      "  warnings.warn(f\"A NumPy version >={np_minversion} and <{np_maxversion}\"\n",
      "/opt/conda/lib/python3.10/site-packages/tensorflow_io/python/ops/__init__.py:98: UserWarning: unable to load libtensorflow_io_plugins.so: unable to open file: libtensorflow_io_plugins.so, from paths: ['/opt/conda/lib/python3.10/site-packages/tensorflow_io/python/ops/libtensorflow_io_plugins.so']\n",
      "caused by: ['/opt/conda/lib/python3.10/site-packages/tensorflow_io/python/ops/libtensorflow_io_plugins.so: undefined symbol: _ZN3tsl6StatusC1EN10tensorflow5error4CodeESt17basic_string_viewIcSt11char_traitsIcEENS_14SourceLocationE']\n",
      "  warnings.warn(f\"unable to load libtensorflow_io_plugins.so: {e}\")\n",
      "/opt/conda/lib/python3.10/site-packages/tensorflow_io/python/ops/__init__.py:104: UserWarning: file system plugins are not loaded: unable to open file: libtensorflow_io.so, from paths: ['/opt/conda/lib/python3.10/site-packages/tensorflow_io/python/ops/libtensorflow_io.so']\n",
      "caused by: ['/opt/conda/lib/python3.10/site-packages/tensorflow_io/python/ops/libtensorflow_io.so: undefined symbol: _ZTVN10tensorflow13GcsFileSystemE']\n",
      "  warnings.warn(f\"file system plugins are not loaded: {e}\")\n"
     ]
    }
   ],
   "source": [
    "import tensorflow as tf"
   ]
  },
  {
   "cell_type": "code",
   "execution_count": 3,
   "id": "cd276be6",
   "metadata": {
    "execution": {
     "iopub.execute_input": "2023-07-31T12:42:53.826891Z",
     "iopub.status.busy": "2023-07-31T12:42:53.826101Z",
     "iopub.status.idle": "2023-07-31T12:42:54.947357Z",
     "shell.execute_reply": "2023-07-31T12:42:54.946186Z"
    },
    "papermill": {
     "duration": 1.13224,
     "end_time": "2023-07-31T12:42:54.949954",
     "exception": false,
     "start_time": "2023-07-31T12:42:53.817714",
     "status": "completed"
    },
    "tags": []
   },
   "outputs": [],
   "source": [
    "from sklearn.model_selection import train_test_split\n",
    "from tensorflow.keras.models import Sequential\n",
    "from tensorflow.keras.layers import Conv2D, MaxPooling2D, Flatten, Dense, Dropout\n",
    "from tensorflow.keras.utils import to_categorical"
   ]
  },
  {
   "cell_type": "code",
   "execution_count": 4,
   "id": "2159265d",
   "metadata": {
    "execution": {
     "iopub.execute_input": "2023-07-31T12:42:54.965795Z",
     "iopub.status.busy": "2023-07-31T12:42:54.965419Z",
     "iopub.status.idle": "2023-07-31T12:42:54.971525Z",
     "shell.execute_reply": "2023-07-31T12:42:54.970512Z"
    },
    "papermill": {
     "duration": 0.016946,
     "end_time": "2023-07-31T12:42:54.974040",
     "exception": false,
     "start_time": "2023-07-31T12:42:54.957094",
     "status": "completed"
    },
    "tags": []
   },
   "outputs": [],
   "source": [
    "# Function to load images from a directory\n",
    "def load_images_from_directory(directory):\n",
    "    images = []\n",
    "    for filename in os.listdir(directory):\n",
    "        image_path = os.path.join(directory, filename)\n",
    "        image = cv2.imread(image_path)\n",
    "        image = cv2.resize(image, (100, 100))  # Resize images to a common size (adjust as needed)\n",
    "        images.append(image)\n",
    "    return np.array(images)"
   ]
  },
  {
   "cell_type": "code",
   "execution_count": 5,
   "id": "e9d920f2",
   "metadata": {
    "execution": {
     "iopub.execute_input": "2023-07-31T12:42:54.989248Z",
     "iopub.status.busy": "2023-07-31T12:42:54.988810Z",
     "iopub.status.idle": "2023-07-31T12:44:00.033381Z",
     "shell.execute_reply": "2023-07-31T12:44:00.031915Z"
    },
    "papermill": {
     "duration": 65.055463,
     "end_time": "2023-07-31T12:44:00.036294",
     "exception": false,
     "start_time": "2023-07-31T12:42:54.980831",
     "status": "completed"
    },
    "tags": []
   },
   "outputs": [],
   "source": [
    "# Load images from directories and create labels\n",
    "with_mask_images = load_images_from_directory(\"/kaggle/input/face-mask-dataset/data/with_mask\")\n",
    "without_mask_images = load_images_from_directory(\"/kaggle/input/face-mask-dataset/data/without_mask\")\n"
   ]
  },
  {
   "cell_type": "code",
   "execution_count": 6,
   "id": "c7e22c5a",
   "metadata": {
    "execution": {
     "iopub.execute_input": "2023-07-31T12:44:00.052057Z",
     "iopub.status.busy": "2023-07-31T12:44:00.051620Z",
     "iopub.status.idle": "2023-07-31T12:44:00.058022Z",
     "shell.execute_reply": "2023-07-31T12:44:00.056853Z"
    },
    "papermill": {
     "duration": 0.017073,
     "end_time": "2023-07-31T12:44:00.060499",
     "exception": false,
     "start_time": "2023-07-31T12:44:00.043426",
     "status": "completed"
    },
    "tags": []
   },
   "outputs": [
    {
     "name": "stdout",
     "output_type": "stream",
     "text": [
      "Shape of all_images: (3725, 100, 100, 3)\n",
      "Shape of all_images_without: (3828, 100, 100, 3)\n"
     ]
    }
   ],
   "source": [
    "print(\"Shape of all_images:\", with_mask_images.shape)\n",
    "print(\"Shape of all_images_without:\", without_mask_images.shape)\n"
   ]
  },
  {
   "cell_type": "code",
   "execution_count": 7,
   "id": "5bcfae47",
   "metadata": {
    "execution": {
     "iopub.execute_input": "2023-07-31T12:44:00.075674Z",
     "iopub.status.busy": "2023-07-31T12:44:00.075284Z",
     "iopub.status.idle": "2023-07-31T12:44:00.080731Z",
     "shell.execute_reply": "2023-07-31T12:44:00.079626Z"
    },
    "papermill": {
     "duration": 0.016026,
     "end_time": "2023-07-31T12:44:00.083172",
     "exception": false,
     "start_time": "2023-07-31T12:44:00.067146",
     "status": "completed"
    },
    "tags": []
   },
   "outputs": [],
   "source": [
    "\n",
    "with_mask_labels = np.ones(with_mask_images.shape[0])\n",
    "without_mask_labels = np.zeros(without_mask_images.shape[0])\n",
    "\n"
   ]
  },
  {
   "cell_type": "code",
   "execution_count": 8,
   "id": "9149dae5",
   "metadata": {
    "execution": {
     "iopub.execute_input": "2023-07-31T12:44:00.098687Z",
     "iopub.status.busy": "2023-07-31T12:44:00.098183Z",
     "iopub.status.idle": "2023-07-31T12:44:00.222888Z",
     "shell.execute_reply": "2023-07-31T12:44:00.221642Z"
    },
    "papermill": {
     "duration": 0.135731,
     "end_time": "2023-07-31T12:44:00.225782",
     "exception": false,
     "start_time": "2023-07-31T12:44:00.090051",
     "status": "completed"
    },
    "tags": []
   },
   "outputs": [],
   "source": [
    "# Combine the images and create labels\n",
    "all_images = np.concatenate((with_mask_images, without_mask_images), axis=0)\n",
    "all_labels = np.concatenate((with_mask_labels, without_mask_labels), axis=0)"
   ]
  },
  {
   "cell_type": "code",
   "execution_count": 9,
   "id": "ba3e4c3a",
   "metadata": {
    "execution": {
     "iopub.execute_input": "2023-07-31T12:44:00.241084Z",
     "iopub.status.busy": "2023-07-31T12:44:00.240646Z",
     "iopub.status.idle": "2023-07-31T12:44:00.695584Z",
     "shell.execute_reply": "2023-07-31T12:44:00.694477Z"
    },
    "papermill": {
     "duration": 0.465759,
     "end_time": "2023-07-31T12:44:00.698420",
     "exception": false,
     "start_time": "2023-07-31T12:44:00.232661",
     "status": "completed"
    },
    "tags": []
   },
   "outputs": [],
   "source": [
    "# Normalize image data to range [0, 1]\n",
    "all_images = all_images.astype('float32') / 255.0\n"
   ]
  },
  {
   "cell_type": "code",
   "execution_count": 10,
   "id": "95f7e9da",
   "metadata": {
    "execution": {
     "iopub.execute_input": "2023-07-31T12:44:00.715148Z",
     "iopub.status.busy": "2023-07-31T12:44:00.714747Z",
     "iopub.status.idle": "2023-07-31T12:44:00.720470Z",
     "shell.execute_reply": "2023-07-31T12:44:00.719252Z"
    },
    "papermill": {
     "duration": 0.016255,
     "end_time": "2023-07-31T12:44:00.723006",
     "exception": false,
     "start_time": "2023-07-31T12:44:00.706751",
     "status": "completed"
    },
    "tags": []
   },
   "outputs": [],
   "source": [
    "# One-hot encode the labels\n",
    "all_labels = to_categorical(all_labels)"
   ]
  },
  {
   "cell_type": "code",
   "execution_count": 11,
   "id": "d21397f1",
   "metadata": {
    "execution": {
     "iopub.execute_input": "2023-07-31T12:44:00.737824Z",
     "iopub.status.busy": "2023-07-31T12:44:00.737450Z",
     "iopub.status.idle": "2023-07-31T12:44:01.117040Z",
     "shell.execute_reply": "2023-07-31T12:44:01.115938Z"
    },
    "papermill": {
     "duration": 0.39029,
     "end_time": "2023-07-31T12:44:01.119885",
     "exception": false,
     "start_time": "2023-07-31T12:44:00.729595",
     "status": "completed"
    },
    "tags": []
   },
   "outputs": [],
   "source": [
    "# Split the data into training and testing sets\n",
    "X_train, X_test, y_train, y_test = train_test_split(all_images, all_labels, test_size=0.2, random_state=42)\n"
   ]
  },
  {
   "cell_type": "code",
   "execution_count": 12,
   "id": "53d259bf",
   "metadata": {
    "execution": {
     "iopub.execute_input": "2023-07-31T12:44:01.135246Z",
     "iopub.status.busy": "2023-07-31T12:44:01.134815Z",
     "iopub.status.idle": "2023-07-31T12:44:01.381041Z",
     "shell.execute_reply": "2023-07-31T12:44:01.379667Z"
    },
    "papermill": {
     "duration": 0.257063,
     "end_time": "2023-07-31T12:44:01.383799",
     "exception": false,
     "start_time": "2023-07-31T12:44:01.126736",
     "status": "completed"
    },
    "tags": []
   },
   "outputs": [],
   "source": [
    "# Build the CNN model\n",
    "model = Sequential()\n",
    "model.add(Conv2D(32, (3, 3), activation='relu', input_shape=(100, 100, 3)))\n",
    "model.add(MaxPooling2D((2, 2)))\n",
    "model.add(Conv2D(64, (3, 3), activation='relu'))\n",
    "model.add(MaxPooling2D((2, 2)))\n",
    "model.add(Conv2D(128, (3, 3), activation='relu'))\n",
    "model.add(MaxPooling2D((2, 2)))\n",
    "model.add(Flatten())\n",
    "model.add(Dense(64, activation='relu'))\n",
    "model.add(Dropout(0.5))\n",
    "model.add(Dense(2, activation='softmax'))  # 2 classes: With Mask and Without Mask\n",
    "\n",
    "\n",
    "\n",
    "\n",
    "\n"
   ]
  },
  {
   "cell_type": "code",
   "execution_count": 13,
   "id": "fb41a593",
   "metadata": {
    "execution": {
     "iopub.execute_input": "2023-07-31T12:44:01.399417Z",
     "iopub.status.busy": "2023-07-31T12:44:01.399013Z",
     "iopub.status.idle": "2023-07-31T12:44:01.419844Z",
     "shell.execute_reply": "2023-07-31T12:44:01.418716Z"
    },
    "papermill": {
     "duration": 0.031761,
     "end_time": "2023-07-31T12:44:01.422679",
     "exception": false,
     "start_time": "2023-07-31T12:44:01.390918",
     "status": "completed"
    },
    "tags": []
   },
   "outputs": [],
   "source": [
    "# Model Compilation\n",
    "model.compile(optimizer='adam', loss='categorical_crossentropy', metrics=['accuracy'])\n",
    "\n",
    "\n"
   ]
  },
  {
   "cell_type": "code",
   "execution_count": 14,
   "id": "462b8d88",
   "metadata": {
    "execution": {
     "iopub.execute_input": "2023-07-31T12:44:01.438583Z",
     "iopub.status.busy": "2023-07-31T12:44:01.437775Z",
     "iopub.status.idle": "2023-07-31T12:54:53.930791Z",
     "shell.execute_reply": "2023-07-31T12:54:53.929499Z"
    },
    "papermill": {
     "duration": 652.503823,
     "end_time": "2023-07-31T12:54:53.933423",
     "exception": false,
     "start_time": "2023-07-31T12:44:01.429600",
     "status": "completed"
    },
    "tags": []
   },
   "outputs": [
    {
     "name": "stdout",
     "output_type": "stream",
     "text": [
      "Epoch 1/10\n",
      "189/189 [==============================] - 67s 347ms/step - loss: 0.3977 - accuracy: 0.8203 - val_loss: 0.2681 - val_accuracy: 0.8981\n",
      "Epoch 2/10\n",
      "189/189 [==============================] - 65s 344ms/step - loss: 0.2611 - accuracy: 0.8954 - val_loss: 0.2116 - val_accuracy: 0.9093\n",
      "Epoch 3/10\n",
      "189/189 [==============================] - 65s 343ms/step - loss: 0.2112 - accuracy: 0.9194 - val_loss: 0.1596 - val_accuracy: 0.9385\n",
      "Epoch 4/10\n",
      "189/189 [==============================] - 65s 342ms/step - loss: 0.1795 - accuracy: 0.9315 - val_loss: 0.1841 - val_accuracy: 0.9391\n",
      "Epoch 5/10\n",
      "189/189 [==============================] - 65s 342ms/step - loss: 0.1529 - accuracy: 0.9454 - val_loss: 0.1390 - val_accuracy: 0.9497\n",
      "Epoch 6/10\n",
      "189/189 [==============================] - 65s 343ms/step - loss: 0.1280 - accuracy: 0.9535 - val_loss: 0.1340 - val_accuracy: 0.9550\n",
      "Epoch 7/10\n",
      "189/189 [==============================] - 65s 344ms/step - loss: 0.1216 - accuracy: 0.9595 - val_loss: 0.1358 - val_accuracy: 0.9550\n",
      "Epoch 8/10\n",
      "189/189 [==============================] - 65s 346ms/step - loss: 0.1053 - accuracy: 0.9623 - val_loss: 0.1373 - val_accuracy: 0.9590\n",
      "Epoch 9/10\n",
      "189/189 [==============================] - 65s 344ms/step - loss: 0.0983 - accuracy: 0.9649 - val_loss: 0.1198 - val_accuracy: 0.9643\n",
      "Epoch 10/10\n",
      "189/189 [==============================] - 65s 345ms/step - loss: 0.0759 - accuracy: 0.9722 - val_loss: 0.1585 - val_accuracy: 0.9464\n"
     ]
    }
   ],
   "source": [
    "# Model Training\n",
    "history = model.fit(X_train, y_train, epochs=10, batch_size=32, validation_data=(X_test, y_test))\n"
   ]
  },
  {
   "cell_type": "code",
   "execution_count": 15,
   "id": "b4823a09",
   "metadata": {
    "execution": {
     "iopub.execute_input": "2023-07-31T12:54:54.288002Z",
     "iopub.status.busy": "2023-07-31T12:54:54.287347Z",
     "iopub.status.idle": "2023-07-31T12:54:54.291611Z",
     "shell.execute_reply": "2023-07-31T12:54:54.290772Z"
    },
    "papermill": {
     "duration": 0.184173,
     "end_time": "2023-07-31T12:54:54.293764",
     "exception": false,
     "start_time": "2023-07-31T12:54:54.109591",
     "status": "completed"
    },
    "tags": []
   },
   "outputs": [],
   "source": [
    "model_path = 'C:\\\\Users\\\\FAITHY\\\\Documents\\\\newmodel_model.h5'\n"
   ]
  },
  {
   "cell_type": "code",
   "execution_count": 16,
   "id": "129f5b6f",
   "metadata": {
    "execution": {
     "iopub.execute_input": "2023-07-31T12:54:54.653025Z",
     "iopub.status.busy": "2023-07-31T12:54:54.652266Z",
     "iopub.status.idle": "2023-07-31T12:54:54.714553Z",
     "shell.execute_reply": "2023-07-31T12:54:54.713412Z"
    },
    "papermill": {
     "duration": 0.246637,
     "end_time": "2023-07-31T12:54:54.717526",
     "exception": false,
     "start_time": "2023-07-31T12:54:54.470889",
     "status": "completed"
    },
    "tags": []
   },
   "outputs": [],
   "source": [
    "model.save(model_path)"
   ]
  },
  {
   "cell_type": "code",
   "execution_count": 17,
   "id": "a5120953",
   "metadata": {
    "execution": {
     "iopub.execute_input": "2023-07-31T12:54:55.149418Z",
     "iopub.status.busy": "2023-07-31T12:54:55.149033Z",
     "iopub.status.idle": "2023-07-31T12:54:55.153800Z",
     "shell.execute_reply": "2023-07-31T12:54:55.152648Z"
    },
    "papermill": {
     "duration": 0.185563,
     "end_time": "2023-07-31T12:54:55.156277",
     "exception": false,
     "start_time": "2023-07-31T12:54:54.970714",
     "status": "completed"
    },
    "tags": []
   },
   "outputs": [],
   "source": [
    "from tensorflow.keras.models import load_model\n"
   ]
  },
  {
   "cell_type": "code",
   "execution_count": 18,
   "id": "950a02f5",
   "metadata": {
    "execution": {
     "iopub.execute_input": "2023-07-31T12:54:55.515586Z",
     "iopub.status.busy": "2023-07-31T12:54:55.515172Z",
     "iopub.status.idle": "2023-07-31T12:54:55.716711Z",
     "shell.execute_reply": "2023-07-31T12:54:55.715396Z"
    },
    "papermill": {
     "duration": 0.382894,
     "end_time": "2023-07-31T12:54:55.719609",
     "exception": false,
     "start_time": "2023-07-31T12:54:55.336715",
     "status": "completed"
    },
    "tags": []
   },
   "outputs": [],
   "source": [
    "loaded_model = load_model(model_path)"
   ]
  }
 ],
 "metadata": {
  "kernelspec": {
   "display_name": "Python 3",
   "language": "python",
   "name": "python3"
  },
  "language_info": {
   "codemirror_mode": {
    "name": "ipython",
    "version": 3
   },
   "file_extension": ".py",
   "mimetype": "text/x-python",
   "name": "python",
   "nbconvert_exporter": "python",
   "pygments_lexer": "ipython3",
   "version": "3.10.12"
  },
  "papermill": {
   "default_parameters": {},
   "duration": 746.199728,
   "end_time": "2023-07-31T12:54:58.925603",
   "environment_variables": {},
   "exception": null,
   "input_path": "__notebook__.ipynb",
   "output_path": "__notebook__.ipynb",
   "parameters": {},
   "start_time": "2023-07-31T12:42:32.725875",
   "version": "2.4.0"
  }
 },
 "nbformat": 4,
 "nbformat_minor": 5
}
